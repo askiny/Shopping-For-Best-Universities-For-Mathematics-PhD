{
 "cells": [
  {
   "cell_type": "markdown",
   "id": "3e28933e",
   "metadata": {},
   "source": [
    "I imported libraries and pulled data."
   ]
  },
  {
   "cell_type": "code",
   "execution_count": 54,
   "id": "d22d47ea",
   "metadata": {},
   "outputs": [],
   "source": [
    "import json\n",
    "import pandas as pd\n",
    "import requests\n",
    "import networkx as nx\n",
    "import gravis"
   ]
  },
  {
   "cell_type": "code",
   "execution_count": 32,
   "id": "d286ae00",
   "metadata": {},
   "outputs": [],
   "source": [
    "with open(r\"C:\\Users\\askin\\Downloads\\data.json\", 'r', encoding='utf-8') as file:\n",
    "    json_content = json.load(file)"
   ]
  },
  {
   "cell_type": "markdown",
   "id": "57566b4c-99c8-41fc-ad4c-93b1debaf0b8",
   "metadata": {},
   "source": [
    "This function below creates nodes for nx.graph with requested data type."
   ]
  },
  {
   "cell_type": "code",
   "execution_count": 33,
   "id": "a8da8c98-4a88-4b2c-a17a-83b50ababe1d",
   "metadata": {},
   "outputs": [],
   "source": [
    "def node_maker(data, node_type):\n",
    "    graph = nx.Graph()\n",
    "\n",
    "    for m in data.get('nodes', []):\n",
    "        if node_type in m and m[node_type]:\n",
    "            node_value = m[node_type]\n",
    "            graph.add_node(node_value)\n",
    "    return graph"
   ]
  },
  {
   "cell_type": "markdown",
   "id": "9739b2a7-99c7-49ae-9b1e-d2b12ae4d48c",
   "metadata": {},
   "source": [
    "I wrote this function to add lines between nodes."
   ]
  },
  {
   "cell_type": "code",
   "execution_count": 34,
   "id": "3e6deff2-297b-46e8-ae20-e6d93378554c",
   "metadata": {},
   "outputs": [],
   "source": [
    "def edge_maker(data, graph, node_type, data_type_1, data_type_2):\n",
    "    for m in data.get('nodes', []):\n",
    "        if node_type in m and m[node_type]:\n",
    "            wanted_value = m[node_type]\n",
    "            data_values_1 = m.get(data_type_1, [])\n",
    "            data_values_2 = m.get(data_type_2, [])\n",
    "\n",
    "            for data_1 in data_values_1:\n",
    "                if 0 < data_1 <= len(data['nodes']):\n",
    "                    data_1_wanted = data['nodes'][data_1 - 1].get(node_type)\n",
    "                    if data_1_wanted and data_1_wanted != wanted_value:\n",
    "                        graph.add_edge(wanted_value, data_1_wanted)\n",
    "                        \n",
    "            for data_2 in data_values_2:\n",
    "                if 0 < data_2 <= len(data['nodes']):\n",
    "                    data_2_wanted = data['nodes'][data_2 - 1].get(node_type)\n",
    "                    if data_2_wanted and data_2_wanted != wanted_value:\n",
    "                        graph.add_edge(wanted_value, data_2_wanted)\n",
    "\n",
    "    return graph\n"
   ]
  },
  {
   "cell_type": "markdown",
   "id": "24a7a8c9-1b76-4f43-a1c1-7fe6b2f11904",
   "metadata": {},
   "source": [
    "And here is the page rank algorithm."
   ]
  },
  {
   "cell_type": "code",
   "execution_count": 35,
   "id": "dbb8f97e-850f-4a97-b44a-22f7c4c25367",
   "metadata": {},
   "outputs": [],
   "source": [
    "def page_rank(graph, data_type, top_n=10):\n",
    "    pagerank_values = nx.pagerank(graph)\n",
    "    top_data_types = sorted(pagerank_values, key=pagerank_values.get, reverse=True)[:top_n]\n",
    "    \n",
    "\n",
    "    return top_data_types\n"
   ]
  },
  {
   "cell_type": "markdown",
   "id": "87cc70ab-437f-4f83-af2a-5deb73865c1d",
   "metadata": {},
   "source": [
    "And I called all the funcitons below there:"
   ]
  },
  {
   "cell_type": "code",
   "execution_count": 36,
   "id": "13e2abc3-7d9b-45e5-8edf-35c56b05c9f3",
   "metadata": {},
   "outputs": [],
   "source": [
    "G_countries = node_maker(json_content, 'country')"
   ]
  },
  {
   "cell_type": "code",
   "execution_count": 37,
   "id": "5fecd774-4c58-4f6b-9ae2-a62d89441424",
   "metadata": {},
   "outputs": [],
   "source": [
    "G_countries = edge_maker(json_content, G_countries, 'country', 'advisors', 'student')"
   ]
  },
  {
   "cell_type": "code",
   "execution_count": 38,
   "id": "c71dfa3b-3f6e-435e-bb9e-4cca27896a22",
   "metadata": {},
   "outputs": [],
   "source": [
    "for u, v in G_countries.edges():\n",
    "    G_countries[u][v]['weight'] = G_countries.number_of_edges(u, v)"
   ]
  },
  {
   "cell_type": "markdown",
   "id": "5e726b27-596c-48c9-b925-f418cc752920",
   "metadata": {},
   "source": [
    "Here is the best countries for Mathematics PhD:"
   ]
  },
  {
   "cell_type": "code",
   "execution_count": 39,
   "id": "679549ab-b107-4512-8302-93f3013d4982",
   "metadata": {},
   "outputs": [
    {
     "data": {
      "text/plain": [
       "['UnitedStates',\n",
       " 'Germany',\n",
       " 'UnitedKingdom',\n",
       " 'France',\n",
       " 'Canada',\n",
       " 'Australia',\n",
       " 'Italy',\n",
       " 'Netherlands',\n",
       " 'Switzerland',\n",
       " 'Spain']"
      ]
     },
     "execution_count": 39,
     "metadata": {},
     "output_type": "execute_result"
    }
   ],
   "source": [
    "page_rank_country = page_rank(G_countries, 'country', top_n = 10)\n",
    "page_rank_country"
   ]
  },
  {
   "cell_type": "code",
   "execution_count": 41,
   "id": "34a276b3-06c4-4dac-8a74-dbe337a6564c",
   "metadata": {},
   "outputs": [],
   "source": [
    "G_universities = node_maker(json_content, 'school')"
   ]
  },
  {
   "cell_type": "code",
   "execution_count": 42,
   "id": "054d4b99-bbb6-4b19-975c-bf3c443f7371",
   "metadata": {},
   "outputs": [],
   "source": [
    "G_universities = edge_maker(json_content, G_universities, 'school', 'advisors', 'student')"
   ]
  },
  {
   "cell_type": "code",
   "execution_count": 43,
   "id": "aa4c71c0-60a2-45cd-90a3-4e83c06fff90",
   "metadata": {},
   "outputs": [],
   "source": [
    "for u, v in G_universities.edges():\n",
    "    weight = G_universities[u][v].get('weight', 0)\n",
    "    G_universities[u][v]['weight'] = weight + 1"
   ]
  },
  {
   "cell_type": "markdown",
   "id": "88de0b30-e859-4a11-8417-56a203d62c11",
   "metadata": {},
   "source": [
    "And the best Universities for Mathematics PhD"
   ]
  },
  {
   "cell_type": "code",
   "execution_count": 44,
   "id": "88416b1c-39de-489e-8fef-a55c2084ddfd",
   "metadata": {},
   "outputs": [
    {
     "data": {
      "text/plain": [
       "['Massachusetts Institute of Technology',\n",
       " 'University of California, Berkeley',\n",
       " 'Stanford University',\n",
       " 'University of Wisconsin-Madison',\n",
       " 'Harvard University',\n",
       " 'University of Illinois at Urbana-Champaign',\n",
       " 'University of Michigan',\n",
       " 'University of California, Los Angeles',\n",
       " 'Princeton University',\n",
       " 'The University of Chicago']"
      ]
     },
     "execution_count": 44,
     "metadata": {},
     "output_type": "execute_result"
    }
   ],
   "source": [
    "page_rank_school = page_rank(G_universities, 'school', top_n = 10)\n",
    "page_rank_school"
   ]
  }
 ],
 "metadata": {
  "kernelspec": {
   "display_name": "Python 3 (ipykernel)",
   "language": "python",
   "name": "python3"
  },
  "language_info": {
   "codemirror_mode": {
    "name": "ipython",
    "version": 3
   },
   "file_extension": ".py",
   "mimetype": "text/x-python",
   "name": "python",
   "nbconvert_exporter": "python",
   "pygments_lexer": "ipython3",
   "version": "3.11.5"
  }
 },
 "nbformat": 4,
 "nbformat_minor": 5
}
